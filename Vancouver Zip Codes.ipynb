{
    "cells": [
        {
            "metadata": {
                "collapsed": true
            },
            "cell_type": "markdown",
            "source": "# Extract, Transform and Load: Postal Codes of Vancouver, BC"
        },
        {
            "metadata": {},
            "cell_type": "code",
            "source": "import pandas as pd\nimport requests\nfrom datetime import datetime\nfrom bs4 import BeautifulSoup",
            "execution_count": 1,
            "outputs": []
        },
        {
            "metadata": {},
            "cell_type": "markdown",
            "source": "Create a target file in which we will later load the transformed data and a logfile"
        },
        {
            "metadata": {},
            "cell_type": "code",
            "source": "open(\"logfile.txt\", \"w\").close()\nopen(\"Vancouver_postal_code.csv\", \"w\").close()\nlogfile    = \"logfile.txt\"            # all event logs will be stored in this file\ntargetfile = \"Vancouver_postal_code.csv\"   # file where transformed data is stored",
            "execution_count": 2,
            "outputs": []
        },
        {
            "metadata": {},
            "cell_type": "markdown",
            "source": "### Scraping Data from Wikipedia"
        },
        {
            "metadata": {},
            "cell_type": "code",
            "source": "# Scraping Data from Wikipedia\nr = requests.get(\"https://en.wikipedia.org/wiki/List_of_postal_codes_of_Canada:_V\")\nsoup = BeautifulSoup(r.content, \"html.parser\")",
            "execution_count": 3,
            "outputs": []
        },
        {
            "metadata": {},
            "cell_type": "markdown",
            "source": "Defining a function to extract the table"
        },
        {
            "metadata": {},
            "cell_type": "code",
            "source": "def extract():\n    table=soup.find('table')\n    table_rows = table.find_all('tr')\n\n    l = []\n    for tr in table_rows:\n        td = tr.find_all('td')\n        row = [tr.text for tr in td]\n        l.append(row)\n    extracted_data=pd.DataFrame(l, columns=[\"V1\", \"V2\", \"V3\", \"V4\", \"V5\", \"V6\", \"V7\", \"V8\", \"V9\"])\n    extracted_data = extracted_data.replace(r'\\n',' ', regex=True)\n\n    return extracted_data  ",
            "execution_count": 4,
            "outputs": []
        },
        {
            "metadata": {},
            "cell_type": "markdown",
            "source": "### Transforming Data"
        },
        {
            "metadata": {},
            "cell_type": "markdown",
            "source": "We chose a column and split it into 3 columns"
        },
        {
            "metadata": {},
            "cell_type": "code",
            "source": "# Creating a new column for Neighbourhoods\ndef transform(data, column):\n    dato=pd.DataFrame(columns=['City','PostalCode', 'Neighbourhood'])\n    dato[\"PostalCode\"] = data[column].str[:3]\n    mu=data[column].str[3:-2].str.split(\"(\", n = 1, expand = True)\n    dato[\"City\"] = mu[0]\n    dato[\"Neighbourhood\"]= mu[1]\n    return dato",
            "execution_count": 5,
            "outputs": []
        },
        {
            "metadata": {},
            "cell_type": "markdown",
            "source": "### Load"
        },
        {
            "metadata": {},
            "cell_type": "markdown",
            "source": "Create a function that takes a dataframe and load it to a csv named Neighbourhoods_Vancouver.csv."
        },
        {
            "metadata": {},
            "cell_type": "code",
            "source": "def load(targetfile,data_to_load):\n    # Write your code here\n    data_to_load.to_csv(targetfile)     ",
            "execution_count": 6,
            "outputs": []
        },
        {
            "metadata": {},
            "cell_type": "markdown",
            "source": "### Logging"
        },
        {
            "metadata": {},
            "cell_type": "markdown",
            "source": "Create a function to log the process"
        },
        {
            "metadata": {},
            "cell_type": "code",
            "source": "def log(message):\n    # Write your code here\n    timestamp_format = '%Y-%h-%d-%H:%M:%S' # Year-Monthname-Day-Hour-Minute-Second\n    now = datetime.now() # get current timestamp\n    timestamp = now.strftime(timestamp_format)\n    with open(\"logfile.txt\",\"a\") as f:\n        f.write(timestamp + ',' + message + '\\n')    ",
            "execution_count": 7,
            "outputs": []
        },
        {
            "metadata": {},
            "cell_type": "markdown",
            "source": "## ETL-Process"
        },
        {
            "metadata": {},
            "cell_type": "code",
            "source": "log(\"ETL Job Started\")\nlog(\"Extract phase Started\")",
            "execution_count": 8,
            "outputs": []
        },
        {
            "metadata": {},
            "cell_type": "code",
            "source": "#Extract\nextracted_data = extract()\nextracted_data.head()",
            "execution_count": 9,
            "outputs": [
                {
                    "output_type": "execute_result",
                    "execution_count": 9,
                    "data": {
                        "text/plain": "                 V1                                 V2  \\\n0     V1AKimberley                       V2APenticton    \n1    V1BVernonEast               V2BKamloopsNorthwest    \n2     V1CCranbrook   V2CKamloopsCentral and Southeast    \n3    V1ESalmon Arm          V2EKamloopsSouth and West    \n4  V1GDawson Creek                   V2GWilliams Lake    \n\n                                   V3                     V4  \\\n0  V3ALangley Township(Langley City)     V4ASurreySouthwest    \n1           V3BPort CoquitlamCentral          V4BWhite Rock    \n2             V3CPort CoquitlamSouth      V4CDeltaNortheast    \n3                  V3ECoquitlamNorth           V4EDeltaEast    \n4                  V3GAbbotsfordEast   V4GDeltaEast Central    \n\n                                                  V5  \\\n0  V5ABurnaby(Government Road / Lake City / SFU /...   \n1   V5BBurnaby(Parkcrest-Aubrey / Ardingley-Sprott)    \n2  V5CBurnaby(Burnaby Heights / Willingdon Height...   \n3  V5EBurnaby(Lakeview-Mayfield / Richmond Park /...   \n4        V5GBurnaby(Cascade-Schou / Douglas-Gilpin)    \n\n                                                  V6  \\\n0  V6AVancouver(Strathcona / Chinatown / Downtown...   \n1  V6BVancouver(NE Downtown / Gastown / Harbour C...   \n2  V6CVancouver(Waterfront / Coal Harbour / Canad...   \n3         V6EVancouver(SE West End / Davie Village)    \n4          V6GVancouver(NW West End / Stanley Park)    \n\n                                                  V7                V8  \\\n0                                  V7ARichmondSouth   V8APowell River    \n1                     V7BRichmond(Sea Island / YVR)       V8BSquamish    \n2                              V7CRichmondNorthwest        V8CKitimat    \n3                              V7ERichmondSouthwest       V8EWhistler    \n4  V7GNorth Vancouver (district municipality)Oute...       V8GTerrace    \n\n                                                  V9  \n0  V9AVictoria(Vic West / Esquimalt)Canadian Forc...  \n1  V9BVictoria(West Highlands / North Langford / ...  \n2  V9CVictoria(Colwood / South Langford / Metchos...  \n3          V9EVictoria(East Highlands / NW Saanich)   \n4                                      V9GLadysmith   ",
                        "text/html": "<div>\n<style scoped>\n    .dataframe tbody tr th:only-of-type {\n        vertical-align: middle;\n    }\n\n    .dataframe tbody tr th {\n        vertical-align: top;\n    }\n\n    .dataframe thead th {\n        text-align: right;\n    }\n</style>\n<table border=\"1\" class=\"dataframe\">\n  <thead>\n    <tr style=\"text-align: right;\">\n      <th></th>\n      <th>V1</th>\n      <th>V2</th>\n      <th>V3</th>\n      <th>V4</th>\n      <th>V5</th>\n      <th>V6</th>\n      <th>V7</th>\n      <th>V8</th>\n      <th>V9</th>\n    </tr>\n  </thead>\n  <tbody>\n    <tr>\n      <th>0</th>\n      <td>V1AKimberley</td>\n      <td>V2APenticton</td>\n      <td>V3ALangley Township(Langley City)</td>\n      <td>V4ASurreySouthwest</td>\n      <td>V5ABurnaby(Government Road / Lake City / SFU /...</td>\n      <td>V6AVancouver(Strathcona / Chinatown / Downtown...</td>\n      <td>V7ARichmondSouth</td>\n      <td>V8APowell River</td>\n      <td>V9AVictoria(Vic West / Esquimalt)Canadian Forc...</td>\n    </tr>\n    <tr>\n      <th>1</th>\n      <td>V1BVernonEast</td>\n      <td>V2BKamloopsNorthwest</td>\n      <td>V3BPort CoquitlamCentral</td>\n      <td>V4BWhite Rock</td>\n      <td>V5BBurnaby(Parkcrest-Aubrey / Ardingley-Sprott)</td>\n      <td>V6BVancouver(NE Downtown / Gastown / Harbour C...</td>\n      <td>V7BRichmond(Sea Island / YVR)</td>\n      <td>V8BSquamish</td>\n      <td>V9BVictoria(West Highlands / North Langford / ...</td>\n    </tr>\n    <tr>\n      <th>2</th>\n      <td>V1CCranbrook</td>\n      <td>V2CKamloopsCentral and Southeast</td>\n      <td>V3CPort CoquitlamSouth</td>\n      <td>V4CDeltaNortheast</td>\n      <td>V5CBurnaby(Burnaby Heights / Willingdon Height...</td>\n      <td>V6CVancouver(Waterfront / Coal Harbour / Canad...</td>\n      <td>V7CRichmondNorthwest</td>\n      <td>V8CKitimat</td>\n      <td>V9CVictoria(Colwood / South Langford / Metchos...</td>\n    </tr>\n    <tr>\n      <th>3</th>\n      <td>V1ESalmon Arm</td>\n      <td>V2EKamloopsSouth and West</td>\n      <td>V3ECoquitlamNorth</td>\n      <td>V4EDeltaEast</td>\n      <td>V5EBurnaby(Lakeview-Mayfield / Richmond Park /...</td>\n      <td>V6EVancouver(SE West End / Davie Village)</td>\n      <td>V7ERichmondSouthwest</td>\n      <td>V8EWhistler</td>\n      <td>V9EVictoria(East Highlands / NW Saanich)</td>\n    </tr>\n    <tr>\n      <th>4</th>\n      <td>V1GDawson Creek</td>\n      <td>V2GWilliams Lake</td>\n      <td>V3GAbbotsfordEast</td>\n      <td>V4GDeltaEast Central</td>\n      <td>V5GBurnaby(Cascade-Schou / Douglas-Gilpin)</td>\n      <td>V6GVancouver(NW West End / Stanley Park)</td>\n      <td>V7GNorth Vancouver (district municipality)Oute...</td>\n      <td>V8GTerrace</td>\n      <td>V9GLadysmith</td>\n    </tr>\n  </tbody>\n</table>\n</div>"
                    },
                    "metadata": {}
                }
            ]
        },
        {
            "metadata": {},
            "cell_type": "markdown",
            "source": "The data for Vancouver is in column \"V6\""
        },
        {
            "metadata": {},
            "cell_type": "code",
            "source": "log(\"Extract phase Ended\")",
            "execution_count": 10,
            "outputs": []
        },
        {
            "metadata": {},
            "cell_type": "code",
            "source": "log(\"Transform phase Started\")",
            "execution_count": 11,
            "outputs": []
        },
        {
            "metadata": {},
            "cell_type": "code",
            "source": "#Transform\ntransformed_data = transform(extracted_data,\"V6\")",
            "execution_count": 12,
            "outputs": []
        },
        {
            "metadata": {},
            "cell_type": "code",
            "source": "log(\"Transform phase Ended\")",
            "execution_count": 13,
            "outputs": []
        },
        {
            "metadata": {},
            "cell_type": "code",
            "source": "log(\"Load phase Started\")",
            "execution_count": 14,
            "outputs": []
        },
        {
            "metadata": {},
            "cell_type": "code",
            "source": "#Load\nload(targetfile,transformed_data)",
            "execution_count": 15,
            "outputs": []
        },
        {
            "metadata": {},
            "cell_type": "code",
            "source": "log(\"Load phase Ended\")",
            "execution_count": 16,
            "outputs": []
        },
        {
            "metadata": {},
            "cell_type": "markdown",
            "source": "Result: We extracted the table from Wikipedia, transformed the column containing the data on Vancouver, loaded it into our targetfile and wrote a logfile of the process"
        },
        {
            "metadata": {},
            "cell_type": "code",
            "source": "pd.read_csv(targetfile, index_col=0)",
            "execution_count": 17,
            "outputs": [
                {
                    "output_type": "execute_result",
                    "execution_count": 17,
                    "data": {
                        "text/plain": "                City PostalCode  \\\n0          Vancouver        V6A   \n1          Vancouver        V6B   \n2          Vancouver        V6C   \n3          Vancouver        V6E   \n4          Vancouver        V6G   \n5          Vancouver        V6H   \n6          Vancouver        V6J   \n7          Vancouver        V6K   \n8          Vancouver        V6L   \n9          Vancouver        V6M   \n10         Vancouver        V6N   \n11         Vancouver        V6P   \n12         Vancouver        V6R   \n13         Vancouver        V6S   \n14         Vancouver        V6T   \n15  RichmondNortheas        V6V   \n16  RichmondSoutheas        V6W   \n17      RichmondNort        V6X   \n18    RichmondCentra        V6Y   \n19         Vancouver        V6Z   \n\n                                        Neighbourhood  \n0          Strathcona / Chinatown / Downtown Eastside  \n1   NE Downtown / Gastown / Harbour Centre / Inter...  \n2            Waterfront / Coal Harbour / Canada Place  \n3                         SE West End / Davie Village  \n4                          NW West End / Stanley Park  \n5   West Fairview / Granville Island / NE Shaughnessy  \n6         NW Shaughnessy / East Kitsilano / Quilchena  \n7                       Central Kitsilano / Greektown  \n8             NW Arbutus Ridge / NE Dunbar-Southlands  \n9   South Shaughnessy / NW Oakridge / NE Kerrisdal...  \n10  West Kerrisdale / South Dunbar-Southlands / Mu...  \n11         SE Kerrisdale / SW Oakridge / West Marpole  \n12         West Kitsilano / West Point Grey / Jericho  \n13  NW Dunbar-Southlands / Chaldecutt / South Univ...  \n14                                                UBC  \n15                                                NaN  \n16                                                NaN  \n17                                                NaN  \n18                                                NaN  \n19                                        SW Downtown  ",
                        "text/html": "<div>\n<style scoped>\n    .dataframe tbody tr th:only-of-type {\n        vertical-align: middle;\n    }\n\n    .dataframe tbody tr th {\n        vertical-align: top;\n    }\n\n    .dataframe thead th {\n        text-align: right;\n    }\n</style>\n<table border=\"1\" class=\"dataframe\">\n  <thead>\n    <tr style=\"text-align: right;\">\n      <th></th>\n      <th>City</th>\n      <th>PostalCode</th>\n      <th>Neighbourhood</th>\n    </tr>\n  </thead>\n  <tbody>\n    <tr>\n      <th>0</th>\n      <td>Vancouver</td>\n      <td>V6A</td>\n      <td>Strathcona / Chinatown / Downtown Eastside</td>\n    </tr>\n    <tr>\n      <th>1</th>\n      <td>Vancouver</td>\n      <td>V6B</td>\n      <td>NE Downtown / Gastown / Harbour Centre / Inter...</td>\n    </tr>\n    <tr>\n      <th>2</th>\n      <td>Vancouver</td>\n      <td>V6C</td>\n      <td>Waterfront / Coal Harbour / Canada Place</td>\n    </tr>\n    <tr>\n      <th>3</th>\n      <td>Vancouver</td>\n      <td>V6E</td>\n      <td>SE West End / Davie Village</td>\n    </tr>\n    <tr>\n      <th>4</th>\n      <td>Vancouver</td>\n      <td>V6G</td>\n      <td>NW West End / Stanley Park</td>\n    </tr>\n    <tr>\n      <th>5</th>\n      <td>Vancouver</td>\n      <td>V6H</td>\n      <td>West Fairview / Granville Island / NE Shaughnessy</td>\n    </tr>\n    <tr>\n      <th>6</th>\n      <td>Vancouver</td>\n      <td>V6J</td>\n      <td>NW Shaughnessy / East Kitsilano / Quilchena</td>\n    </tr>\n    <tr>\n      <th>7</th>\n      <td>Vancouver</td>\n      <td>V6K</td>\n      <td>Central Kitsilano / Greektown</td>\n    </tr>\n    <tr>\n      <th>8</th>\n      <td>Vancouver</td>\n      <td>V6L</td>\n      <td>NW Arbutus Ridge / NE Dunbar-Southlands</td>\n    </tr>\n    <tr>\n      <th>9</th>\n      <td>Vancouver</td>\n      <td>V6M</td>\n      <td>South Shaughnessy / NW Oakridge / NE Kerrisdal...</td>\n    </tr>\n    <tr>\n      <th>10</th>\n      <td>Vancouver</td>\n      <td>V6N</td>\n      <td>West Kerrisdale / South Dunbar-Southlands / Mu...</td>\n    </tr>\n    <tr>\n      <th>11</th>\n      <td>Vancouver</td>\n      <td>V6P</td>\n      <td>SE Kerrisdale / SW Oakridge / West Marpole</td>\n    </tr>\n    <tr>\n      <th>12</th>\n      <td>Vancouver</td>\n      <td>V6R</td>\n      <td>West Kitsilano / West Point Grey / Jericho</td>\n    </tr>\n    <tr>\n      <th>13</th>\n      <td>Vancouver</td>\n      <td>V6S</td>\n      <td>NW Dunbar-Southlands / Chaldecutt / South Univ...</td>\n    </tr>\n    <tr>\n      <th>14</th>\n      <td>Vancouver</td>\n      <td>V6T</td>\n      <td>UBC</td>\n    </tr>\n    <tr>\n      <th>15</th>\n      <td>RichmondNortheas</td>\n      <td>V6V</td>\n      <td>NaN</td>\n    </tr>\n    <tr>\n      <th>16</th>\n      <td>RichmondSoutheas</td>\n      <td>V6W</td>\n      <td>NaN</td>\n    </tr>\n    <tr>\n      <th>17</th>\n      <td>RichmondNort</td>\n      <td>V6X</td>\n      <td>NaN</td>\n    </tr>\n    <tr>\n      <th>18</th>\n      <td>RichmondCentra</td>\n      <td>V6Y</td>\n      <td>NaN</td>\n    </tr>\n    <tr>\n      <th>19</th>\n      <td>Vancouver</td>\n      <td>V6Z</td>\n      <td>SW Downtown</td>\n    </tr>\n  </tbody>\n</table>\n</div>"
                    },
                    "metadata": {}
                }
            ]
        },
        {
            "metadata": {},
            "cell_type": "code",
            "source": "pd.read_csv(logfile)",
            "execution_count": 18,
            "outputs": [
                {
                    "output_type": "execute_result",
                    "execution_count": 18,
                    "data": {
                        "text/plain": "   2021-Feb-26-14:31:32          ETL Job Started\n0  2021-Feb-26-14:31:32    Extract phase Started\n1  2021-Feb-26-14:31:32      Extract phase Ended\n2  2021-Feb-26-14:31:32  Transform phase Started\n3  2021-Feb-26-14:31:32    Transform phase Ended\n4  2021-Feb-26-14:31:32       Load phase Started\n5  2021-Feb-26-14:31:32         Load phase Ended",
                        "text/html": "<div>\n<style scoped>\n    .dataframe tbody tr th:only-of-type {\n        vertical-align: middle;\n    }\n\n    .dataframe tbody tr th {\n        vertical-align: top;\n    }\n\n    .dataframe thead th {\n        text-align: right;\n    }\n</style>\n<table border=\"1\" class=\"dataframe\">\n  <thead>\n    <tr style=\"text-align: right;\">\n      <th></th>\n      <th>2021-Feb-26-14:31:32</th>\n      <th>ETL Job Started</th>\n    </tr>\n  </thead>\n  <tbody>\n    <tr>\n      <th>0</th>\n      <td>2021-Feb-26-14:31:32</td>\n      <td>Extract phase Started</td>\n    </tr>\n    <tr>\n      <th>1</th>\n      <td>2021-Feb-26-14:31:32</td>\n      <td>Extract phase Ended</td>\n    </tr>\n    <tr>\n      <th>2</th>\n      <td>2021-Feb-26-14:31:32</td>\n      <td>Transform phase Started</td>\n    </tr>\n    <tr>\n      <th>3</th>\n      <td>2021-Feb-26-14:31:32</td>\n      <td>Transform phase Ended</td>\n    </tr>\n    <tr>\n      <th>4</th>\n      <td>2021-Feb-26-14:31:32</td>\n      <td>Load phase Started</td>\n    </tr>\n    <tr>\n      <th>5</th>\n      <td>2021-Feb-26-14:31:32</td>\n      <td>Load phase Ended</td>\n    </tr>\n  </tbody>\n</table>\n</div>"
                    },
                    "metadata": {}
                }
            ]
        }
    ],
    "metadata": {
        "kernelspec": {
            "name": "python3",
            "display_name": "Python 3.7",
            "language": "python"
        },
        "language_info": {
            "name": "python",
            "version": "3.7.9",
            "mimetype": "text/x-python",
            "codemirror_mode": {
                "name": "ipython",
                "version": 3
            },
            "pygments_lexer": "ipython3",
            "nbconvert_exporter": "python",
            "file_extension": ".py"
        }
    },
    "nbformat": 4,
    "nbformat_minor": 1
}